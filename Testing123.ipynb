{
 "cells": [
  {
   "cell_type": "markdown",
   "id": "631bf9c2-6dff-4218-9320-1cb96955efb8",
   "metadata": {},
   "source": [
    "# Heading\n",
    "Sample Text\n",
    "$e^{i\\pi} + 1 = 0$\n"
   ]
  },
  {
   "cell_type": "code",
   "execution_count": null,
   "id": "bbaa681b",
   "metadata": {
    "vscode": {
     "languageId": "plaintext"
    }
   },
   "outputs": [],
   "source": [
    "a = 1+1"
   ]
  }
 ],
 "metadata": {
  "kernelspec": {
   "display_name": "Octave",
   "language": "octave",
   "name": "octave"
  },
  "language_info": {
   "name": ""
  }
 },
 "nbformat": 4,
 "nbformat_minor": 5
}
